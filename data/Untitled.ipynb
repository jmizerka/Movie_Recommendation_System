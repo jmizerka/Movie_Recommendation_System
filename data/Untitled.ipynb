{
 "cells": [
  {
   "cell_type": "code",
   "execution_count": 1,
   "id": "dededd2e-5418-430d-833a-69e1f4efae64",
   "metadata": {},
   "outputs": [],
   "source": [
    "import pandas as pd\n",
    "import numpy as np\n",
    "import re"
   ]
  },
  {
   "cell_type": "code",
   "execution_count": 292,
   "id": "811be2b5-c4b2-4d2a-a227-7f83459d9739",
   "metadata": {},
   "outputs": [],
   "source": [
    "data = pd.read_csv('imdb_movies.csv')"
   ]
  },
  {
   "cell_type": "code",
   "execution_count": 318,
   "id": "654084f2-8fa3-441e-8032-93e1c38c087e",
   "metadata": {
    "scrolled": true
   },
   "outputs": [],
   "source": [
    "actors_set = []\n",
    "row_num = []\n",
    "for i,element in enumerate(data['crew'].astype(str)):\n",
    "    text = element.replace(', Sr.',' Sr.').replace(', Jr.',' Jr.').replace(', ,',', ').rstrip(', ').lstrip()\n",
    "    splitted_text = text.split(',')\n",
    "    if len(splitted_text) % 2 == 0:\n",
    "        actors_set.extend(splitted_text)\n",
    "\n",
    "for i in range(len(actors_set)):\n",
    "    actors_set[i] = actors_set[i].lstrip().rstrip()\n",
    "unique = np.unique(actors_set,return_counts=True)\n",
    "name = []\n",
    "for i in range(len(unique[0])):\n",
    "    if unique[1][i] < 3 or len(unique[0][i].split()) == 1 or any(keyword in unique[0][i] for keyword in ['(voice)','/', 'The ', 'Agent', 'Aunt', 'Brothel Girl', 'Adolf Hitler', 'Age 10', 'Basil Exposition', 'Baby Oliver','Casting Director','Big Bob','Bridget Jones',' Dr. ','Dr. ','Self','self','Pilot','Johnny English','Man in Dance Hall','USA Phantom Dancer','Wednesday Addams','Skull Island','Dancer: Valinese Tari Legong Dancers','Él mismo','Minnie Driver','(','Albus Dumbledore','Skywalker','Bellatrix Lestrange','Cao Cao','Captain','Blind Al','Fairy Godmother','Fake Shemp','Fat Man','Harry Potter','Ron Weasley','Hermione Granger','Jesus Christ',\"Jim's\",'Lord','Mad Dog','Mad Hatter','Meat Loaf', 'Mr.','Mrs', 'News','Newt Scamander','Sexy Girl','Sheriff',\"Ship's Cook\",'Snow White','Tall Man','Tantoo Cardinal','Thin Man','Thor Odinson','Uncle','Winston Churchill','Young Frank','Young Joe','Young Man','Young Michael','Young Woman','Young Girl','Cab Driver','Cop #1','Commissioner James Gordon','Commissaire Juve','Cousin Eddie']):\n",
    "        pass\n",
    "    else:\n",
    "        name.append(unique[0][i])"
   ]
  },
  {
   "cell_type": "code",
   "execution_count": 320,
   "id": "ab10eede-342c-4978-810c-306b7616c28a",
   "metadata": {},
   "outputs": [
    {
     "name": "stdout",
     "output_type": "stream",
     "text": [
      "(array([\"'Weird Al' Yankovic\", '50 Cent', 'A.J. Cook', ...,\n",
      "       'Óscar Barberán', 'Óscar Casas', 'Óscar Jaenada'], dtype='<U30'), array([1, 1, 1, ..., 1, 1, 1]))\n"
     ]
    }
   ],
   "source": [
    "print(np.unique(name,return_counts=True))"
   ]
  },
  {
   "cell_type": "code",
   "execution_count": 112,
   "id": "135d9e28-f2e0-4cad-a94c-94c165674238",
   "metadata": {
    "scrolled": true
   },
   "outputs": [],
   "source": [
    "name = []\n",
    "for i in range(len(unique[0])):\n",
    "    if unique[1][i] < 3 or len(unique[0][i].split()) == 1:\n",
    "        pass\n",
    "    else:\n",
    "        name.append(unique[0][i])\n",
    "        "
   ]
  },
  {
   "cell_type": "code",
   "execution_count": null,
   "id": "732b48bb-3639-409b-b88a-3bd15ab40475",
   "metadata": {},
   "outputs": [],
   "source": [
    "genres_set = set()\n",
    "for i in data['genre'].astype(str):\n",
    "    genres_set.update(i.split(',\\xa0'))\n",
    "genres_set.remove('nan')"
   ]
  },
  {
   "cell_type": "code",
   "execution_count": 211,
   "id": "c1f65167-ef65-4dcb-8ff0-8d0dc390c211",
   "metadata": {},
   "outputs": [],
   "source": [
    "actors_series = pd.Series(name)\n",
    "genres_series = pd.Series(list(genres_set))"
   ]
  },
  {
   "cell_type": "code",
   "execution_count": 80,
   "id": "25d52723-2cab-4c5a-bc54-4592124c9f35",
   "metadata": {
    "scrolled": true
   },
   "outputs": [
    {
     "data": {
      "text/plain": [
       "0         'Weird Al' Yankovic\n",
       "1                     50 Cent\n",
       "2                   A.J. Cook\n",
       "3                    AJ Bowen\n",
       "4                    AJ Raval\n",
       "                ...          \n",
       "7273            Ériq Ebouaney\n",
       "7274    Ólafur Darri Ólafsson\n",
       "7275           Óscar Barberán\n",
       "7276              Óscar Casas\n",
       "7277            Óscar Jaenada\n",
       "Length: 7278, dtype: object"
      ]
     },
     "execution_count": 80,
     "metadata": {},
     "output_type": "execute_result"
    }
   ],
   "source": [
    "actors_series"
   ]
  },
  {
   "cell_type": "code",
   "execution_count": 77,
   "id": "43a103b1-8b00-4ccf-b7d5-451ce8fbb4da",
   "metadata": {},
   "outputs": [],
   "source": [
    "encoded_genres = data['genre'].astype(str)\n",
    "temp_list = []\n",
    "for i in encoded_genres:\n",
    "    list_of_genres = i.split(',\\xa0')\n",
    "    new_list = ''\n",
    "    for j in list_of_genres:\n",
    "        if genres_series.isin([j]).any():\n",
    "            new_list += str(genres_series.index[genres_series == j][0]) +', '\n",
    "        else:\n",
    "            new_list = 'nan'\n",
    "            continue\n",
    "    temp_list.append(new_list.rstrip(','))\n",
    "encoded_genres = pd.Series(temp_list)"
   ]
  },
  {
   "cell_type": "code",
   "execution_count": 89,
   "id": "78552823-ae2e-4fc6-a5a9-7e72ef642dd3",
   "metadata": {
    "scrolled": true
   },
   "outputs": [
    {
     "data": {
      "text/plain": [
       "0         'Weird Al' Yankovic\n",
       "1                     50 Cent\n",
       "2                   A.J. Cook\n",
       "3                    AJ Bowen\n",
       "4                    AJ Raval\n",
       "                ...          \n",
       "7273            Ériq Ebouaney\n",
       "7274    Ólafur Darri Ólafsson\n",
       "7275           Óscar Barberán\n",
       "7276              Óscar Casas\n",
       "7277            Óscar Jaenada\n",
       "Length: 7278, dtype: object"
      ]
     },
     "execution_count": 89,
     "metadata": {},
     "output_type": "execute_result"
    }
   ],
   "source": [
    "actors_series"
   ]
  },
  {
   "cell_type": "code",
   "execution_count": 187,
   "id": "4aa15219-6901-4112-bf72-425ad8b935bf",
   "metadata": {},
   "outputs": [
    {
     "data": {
      "text/plain": [
       "7278"
      ]
     },
     "execution_count": 187,
     "metadata": {},
     "output_type": "execute_result"
    }
   ],
   "source": [
    "len(name)"
   ]
  },
  {
   "cell_type": "code",
   "execution_count": 231,
   "id": "612b742c-4cce-4d16-8355-30ae6cc82405",
   "metadata": {},
   "outputs": [],
   "source": [
    "encoded_names = data['crew'].astype(str)\n"
   ]
  },
  {
   "cell_type": "code",
   "execution_count": null,
   "id": "dee6b6a1-9c54-48f4-b4a9-c716bf29eccc",
   "metadata": {},
   "outputs": [],
   "source": [
    "6075, 7259, 6326, 6437, 3650, 1301, 3208, 931, 1843\n"
   ]
  },
  {
   "cell_type": "code",
   "execution_count": 321,
   "id": "d97c2c1e-d74a-44ab-9355-be62b18bc1b6",
   "metadata": {},
   "outputs": [
    {
     "data": {
      "text/plain": [
       "'6075, 7259, 6326, 6437, 3650, 1301, 3208, 931, 1843'"
      ]
     },
     "execution_count": 321,
     "metadata": {},
     "output_type": "execute_result"
    }
   ],
   "source": [
    "encoded_names[1]"
   ]
  },
  {
   "cell_type": "code",
   "execution_count": 272,
   "id": "240d9ba7-550f-4dba-b58b-53900617ffb1",
   "metadata": {
    "scrolled": true
   },
   "outputs": [],
   "source": [
    "encoded_names = data['crew'].astype(str)\n",
    "temp_list = []\n",
    "for i in encoded_names:\n",
    "    list_of_names = i.split(',')\n",
    "    new_list = ''\n",
    "    for j in list_of_names:\n",
    "        \n",
    "        if actors_series.isin([j.lstrip().rstrip()]).any():\n",
    "            new_list += str(actors_series.index[actors_series == j.lstrip().rstrip()][0]) +', '\n",
    "    temp_list.append(new_list.rstrip(', '))\n",
    "encoded_names = pd.Series(temp_list)\n",
    "encoded_names.replace('', 'nan', inplace=True)\n"
   ]
  },
  {
   "cell_type": "code",
   "execution_count": 273,
   "id": "cf8d6ec1-94d9-4993-b7e4-fbd3dd110ac1",
   "metadata": {},
   "outputs": [],
   "source": []
  },
  {
   "cell_type": "code",
   "execution_count": 276,
   "id": "f3a55901-c294-4ff7-900d-6532f357b09e",
   "metadata": {},
   "outputs": [
    {
     "data": {
      "text/plain": [
       "10178"
      ]
     },
     "execution_count": 276,
     "metadata": {},
     "output_type": "execute_result"
    }
   ],
   "source": [
    "len(encoded_names)"
   ]
  },
  {
   "cell_type": "code",
   "execution_count": 46,
   "id": "8bbefef0-bf1c-45bf-b829-2786389456f5",
   "metadata": {},
   "outputs": [],
   "source": [
    "index_series = pd.Series(list(data.index))\n",
    "encoded_genres_series = pd.Series(encoded_genres)"
   ]
  },
  {
   "cell_type": "code",
   "execution_count": null,
   "id": "66e099f8-0ed8-4bb2-9eea-25b18bfe4a87",
   "metadata": {},
   "outputs": [],
   "source": []
  },
  {
   "cell_type": "code",
   "execution_count": 7,
   "id": "145cc3b7-c43d-4c27-822a-ebdcbab1e871",
   "metadata": {},
   "outputs": [],
   "source": []
  },
  {
   "cell_type": "code",
   "execution_count": 124,
   "id": "1cd6e1cd-9b32-4f30-b07d-427074f7e083",
   "metadata": {
    "scrolled": true
   },
   "outputs": [
    {
     "data": {
      "text/plain": [
       "0           Adventure\n",
       "1              Family\n",
       "2              Comedy\n",
       "3             Mystery\n",
       "4               Drama\n",
       "5             Western\n",
       "6            Thriller\n",
       "7              Action\n",
       "8             History\n",
       "9               Crime\n",
       "10              Music\n",
       "11           TV Movie\n",
       "12                War\n",
       "13             Horror\n",
       "14          Animation\n",
       "15            Romance\n",
       "16            Fantasy\n",
       "17        Documentary\n",
       "18    Science Fiction\n",
       "dtype: object"
      ]
     },
     "execution_count": 124,
     "metadata": {},
     "output_type": "execute_result"
    }
   ],
   "source": [
    "pd.Series(list(genres_set))"
   ]
  },
  {
   "cell_type": "code",
   "execution_count": 82,
   "id": "97ddbe5c-7b74-47bc-8f8c-bdf93aa03c26",
   "metadata": {},
   "outputs": [],
   "source": [
    "data.drop(columns=['orig_title','status', 'budget_x','revenue'],inplace=True)"
   ]
  },
  {
   "cell_type": "code",
   "execution_count": 277,
   "id": "be05dc7c-051d-4315-b158-25972a246f42",
   "metadata": {},
   "outputs": [],
   "source": [
    "encoded_genres = data['genre'].astype(str)\n",
    "temp_list = []\n",
    "for i in encoded_genres:\n",
    "    list_of_genres = i.split(',\\xa0')\n",
    "    new_list = ''\n",
    "    for j in list_of_genres:\n",
    "        if genres_series.isin([j]).any():\n",
    "            new_list += str(genres_series.index[genres_series == j][0]) +', '\n",
    "        else:\n",
    "            new_list = 'nan'\n",
    "            continue\n",
    "    temp_list.append(new_list.rstrip(', '))\n",
    "encoded_genres = pd.Series(temp_list)"
   ]
  },
  {
   "cell_type": "code",
   "execution_count": 312,
   "id": "001179cf-7568-45f2-9216-39093097b150",
   "metadata": {
    "scrolled": true
   },
   "outputs": [
    {
     "data": {
      "text/plain": [
       "0                 4739, 6663, 3380, 7123, 5521, 4532, 2127\n",
       "1        6075, 7259, 6326, 6437, 3650, 1301, 3208, 931,...\n",
       "2        1201, 453, 1098, 2709, 3708, 6221, 2169, 3814,...\n",
       "3                                                     7275\n",
       "4                                     6354, 404, 1461, 152\n",
       "                               ...                        \n",
       "10173                           409, 4266, 2382, 1919, 715\n",
       "10174                          1268, 718, 3300, 5731, 4477\n",
       "10175             6183, 4851, 5966, 2820, 3286, 4790, 2698\n",
       "10176                                      4009, 486, 5673\n",
       "10177                                     7215, 3416, 1238\n",
       "Length: 10178, dtype: object"
      ]
     },
     "execution_count": 312,
     "metadata": {},
     "output_type": "execute_result"
    }
   ],
   "source": [
    "encoded_names"
   ]
  },
  {
   "cell_type": "code",
   "execution_count": 295,
   "id": "10feb135-9f21-448d-a975-ebf546153706",
   "metadata": {
    "scrolled": true
   },
   "outputs": [
    {
     "data": {
      "text/plain": [
       "RangeIndex(start=0, stop=10178, step=1)"
      ]
     },
     "execution_count": 295,
     "metadata": {},
     "output_type": "execute_result"
    }
   ],
   "source": [
    "encoded_genres.index]"
   ]
  },
  {
   "cell_type": "code",
   "execution_count": 315,
   "id": "15641039-9802-4a42-aae0-34dd77c408fe",
   "metadata": {},
   "outputs": [],
   "source": [
    "df = pd.DataFrame({'movie_id': list(encoded_genres.index), 'actor_id':encoded_names})"
   ]
  },
  {
   "cell_type": "code",
   "execution_count": 322,
   "id": "4ce1fae4-8626-4a38-b106-c189ef1d2292",
   "metadata": {},
   "outputs": [
    {
     "ename": "NameError",
     "evalue": "name 'movies' is not defined",
     "output_type": "error",
     "traceback": [
      "\u001b[0;31m---------------------------------------------------------------------------\u001b[0m",
      "\u001b[0;31mNameError\u001b[0m                                 Traceback (most recent call last)",
      "Cell \u001b[0;32mIn[322], line 1\u001b[0m\n\u001b[0;32m----> 1\u001b[0m df \u001b[38;5;241m=\u001b[39m pd\u001b[38;5;241m.\u001b[39mDataFrame({\u001b[38;5;124m'\u001b[39m\u001b[38;5;124mmovie_id\u001b[39m\u001b[38;5;124m'\u001b[39m: \u001b[38;5;28mlist\u001b[39m(\u001b[43mmovies\u001b[49m\u001b[38;5;241m.\u001b[39mindex), \u001b[38;5;124m'\u001b[39m\u001b[38;5;124mactor_id\u001b[39m\u001b[38;5;124m'\u001b[39m:encoded_names})\n",
      "\u001b[0;31mNameError\u001b[0m: name 'movies' is not defined"
     ]
    }
   ],
   "source": [
    "df = pd.DataFrame({'movie_id': list(movies.index), 'actor_id':encoded_names})"
   ]
  },
  {
   "cell_type": "code",
   "execution_count": 317,
   "id": "e079b1ac-c3e2-4614-a381-469a3714b675",
   "metadata": {
    "scrolled": true
   },
   "outputs": [
    {
     "name": "stdout",
     "output_type": "stream",
     "text": [
      "       movie_id actor_id\n",
      "0             0     4739\n",
      "1             0     6663\n",
      "2             0     3380\n",
      "3             0     7123\n",
      "4             0     5521\n",
      "...         ...      ...\n",
      "51969     10176      486\n",
      "51970     10176     5673\n",
      "51971     10177     7215\n",
      "51972     10177     3416\n",
      "51973     10177     1238\n",
      "\n",
      "[51974 rows x 2 columns]\n"
     ]
    }
   ],
   "source": [
    "import pandas as pd\n",
    "\n",
    "# Załóżmy, że df to Twój DataFrame z kolumnami 'id_filmu' i 'id_gatunku'\n",
    "#print(df)\n",
    "# Rozszerzamy DataFrame o nowe wiersze na podstawie kolumny 'id_gatunku'\n",
    "df_expanded2 = (df.set_index('movie_id')['actor_id']\n",
    "               .str.split(',', expand=True)\n",
    "               .stack()\n",
    "               .reset_index(level=1, drop=True)\n",
    "               .reset_index(name='actor_id'))\n",
    "\n",
    "# Wynikowa ramka danych\n",
    "print(df_expanded2)"
   ]
  },
  {
   "cell_type": "code",
   "execution_count": 311,
   "id": "9b55c089-c32f-4c76-bd20-822b3034112e",
   "metadata": {},
   "outputs": [
    {
     "data": {
      "text/html": [
       "<div>\n",
       "<style scoped>\n",
       "    .dataframe tbody tr th:only-of-type {\n",
       "        vertical-align: middle;\n",
       "    }\n",
       "\n",
       "    .dataframe tbody tr th {\n",
       "        vertical-align: top;\n",
       "    }\n",
       "\n",
       "    .dataframe thead th {\n",
       "        text-align: right;\n",
       "    }\n",
       "</style>\n",
       "<table border=\"1\" class=\"dataframe\">\n",
       "  <thead>\n",
       "    <tr style=\"text-align: right;\">\n",
       "      <th></th>\n",
       "      <th>movie_id</th>\n",
       "      <th>genre_id</th>\n",
       "    </tr>\n",
       "  </thead>\n",
       "  <tbody>\n",
       "    <tr>\n",
       "      <th>0</th>\n",
       "      <td>0</td>\n",
       "      <td>11</td>\n",
       "    </tr>\n",
       "    <tr>\n",
       "      <th>1</th>\n",
       "      <td>0</td>\n",
       "      <td>9</td>\n",
       "    </tr>\n",
       "    <tr>\n",
       "      <th>2</th>\n",
       "      <td>1</td>\n",
       "      <td>5</td>\n",
       "    </tr>\n",
       "    <tr>\n",
       "      <th>3</th>\n",
       "      <td>1</td>\n",
       "      <td>1</td>\n",
       "    </tr>\n",
       "    <tr>\n",
       "      <th>4</th>\n",
       "      <td>1</td>\n",
       "      <td>9</td>\n",
       "    </tr>\n",
       "    <tr>\n",
       "      <th>...</th>\n",
       "      <td>...</td>\n",
       "      <td>...</td>\n",
       "    </tr>\n",
       "    <tr>\n",
       "      <th>26405</th>\n",
       "      <td>10176</td>\n",
       "      <td>15</td>\n",
       "    </tr>\n",
       "    <tr>\n",
       "      <th>26406</th>\n",
       "      <td>10176</td>\n",
       "      <td>2</td>\n",
       "    </tr>\n",
       "    <tr>\n",
       "      <th>26407</th>\n",
       "      <td>10177</td>\n",
       "      <td>10</td>\n",
       "    </tr>\n",
       "    <tr>\n",
       "      <th>26408</th>\n",
       "      <td>10177</td>\n",
       "      <td>18</td>\n",
       "    </tr>\n",
       "    <tr>\n",
       "      <th>26409</th>\n",
       "      <td>10177</td>\n",
       "      <td>3</td>\n",
       "    </tr>\n",
       "  </tbody>\n",
       "</table>\n",
       "<p>26410 rows × 2 columns</p>\n",
       "</div>"
      ],
      "text/plain": [
       "       movie_id genre_id\n",
       "0             0       11\n",
       "1             0        9\n",
       "2             1        5\n",
       "3             1        1\n",
       "4             1        9\n",
       "...         ...      ...\n",
       "26405     10176       15\n",
       "26406     10176        2\n",
       "26407     10177       10\n",
       "26408     10177       18\n",
       "26409     10177        3\n",
       "\n",
       "[26410 rows x 2 columns]"
      ]
     },
     "execution_count": 311,
     "metadata": {},
     "output_type": "execute_result"
    }
   ],
   "source": [
    "df_expanded"
   ]
  },
  {
   "cell_type": "code",
   "execution_count": null,
   "id": "0c6d0d5d-6035-4297-84fd-56dea366ad64",
   "metadata": {},
   "outputs": [],
   "source": [
    "import pandas as pd\n",
    "import numpy as np\n",
    "\n",
    "def clean_string(s):\n",
    "    s = s.replace(',\\xa0', ',').replace(', Sr.', ' Sr.').replace(', Jr.', ' Jr.').replace(', ,', ', ').rstrip(', ').strip()\n",
    "    return s\n",
    "\n",
    "def encode(column, unique_values, id_column_name):\n",
    "    encoded_column = column.astype(str).apply(clean_string)\n",
    "    temp_list = []\n",
    "\n",
    "    for value in encoded_column:\n",
    "        values = value.split(',')\n",
    "        ids = [str(unique_values.index[unique_values == val.strip()].values[0]) for val in values if unique_values.isin([val.strip()]).any()]\n",
    "        new_list = ', '.join(ids) if ids else 'nan'\n",
    "        temp_list.append(new_list)\n",
    "    enc_series = pd.Series(temp_list, name=id_column_name)\n",
    "    enc_series.replace('', 'nan', inplace=True)\n",
    "    return enc_series\n",
    "\n",
    "# Load data\n",
    "data = pd.read_csv('../../data/imdb_movies.csv')\n",
    "\n",
    "# Rename columns\n",
    "movies_df = data[['names', 'date_x', 'orig_lang', 'country', 'overview', 'score']]\n",
    "movies_df.columns = ['title', 'date', 'original_lang', 'country', 'overview', 'score']\n",
    "\n",
    "# Save movies data to a separate CSV\n",
    "movies_df.to_csv('../../data/separated_dfs/movies.csv', index=True)\n",
    "\n",
    "# Create np.array of unique movie genres\n",
    "unique_genres = data['genre'].astype(str).str.split(',\\xa0', expand=True).stack().unique()\n",
    "unique_genres = pd.Series(unique_genres[unique_genres != 'nan'], name='genre_name')\n",
    "unique_genres.to_csv('../../data/separated_dfs/genres.csv', index=True)\n",
    "\n",
    "# Clean and process actors' names\n",
    "actors_list = [clean_string(element) for element in data['crew'].astype(str).replace(', ,', ', ').str.split(',')]\n",
    "actors_list = [actor.strip() for ator in actors_list]\n",
    "\n",
    "# Get unique actor names\n",
    "unique = np.unique(actors_list, return_counts=True)\n",
    "name = [unique[0][i] for i in range(len(unique[0]))\n",
    "        if unique[1][i] >= 3 and len(unique[0][i].split()) > 1\n",
    "        and all(keyword not in unique[0][i] for keyword in keywords)]\n",
    "\n",
    "# Save actors data to a separate CSV\n",
    "actors = pd.Series(name, name='actor_name')\n",
    "actors.to_csv('../../data/separated_dfs/actors.csv', index=True)\n",
    "\n",
    "# Encode and save genres and actors series\n",
    "genres_series = encode(data['genre'], unique_genres, 'genre_id')\n",
    "actors_series = encode(data['crew'], actors, 'actor_id')\n",
    "genres_series.to_csv('../../data/separated_dfs/movies_genres.csv', index=True)\n",
    "actors_series.to_csv('../../data/separated_dfs/movies_actors.csv', index=True)\n",
    "\n"
   ]
  },
  {
   "cell_type": "code",
   "execution_count": null,
   "id": "4cfea6c7-1e75-4b43-a48a-d33f87b108e2",
   "metadata": {},
   "outputs": [],
   "source": [
    "import pandas as pd\n",
    "import numpy as np\n",
    "\n",
    "def encode(column, unique_values, id_column_name):\n",
    "    encoded_column = column.astype(str)\n",
    "    temp_list = []\n",
    "\n",
    "    for i in encoded_column:\n",
    "        i.replace(',\\xa0',',')\n",
    "        values = i.split(',')\n",
    "        ids = [str(unique_values.index[unique_values == j.strip()].values[0]) for j in values if unique_values.isin([j.strip()]).any()]\n",
    "        new_list = ', '.join(ids) if ids else 'nan'\n",
    "        temp_list.append(new_list)\n",
    "    enc_series = pd.Series(temp_list, name=id_column_name)\n",
    "    enc_series.replace('', 'nan', inplace=True)\n",
    "    return enc_series\n",
    "\n",
    "data = pd.read_csv('../../data/imdb_movies.csv')\n",
    "\n",
    "movies_df = data[['names', 'date_x', 'orig_lang', 'country', 'overview', 'score']]\n",
    "movies_df.columns = ['title', 'date', 'original_lang', 'country', 'overview', 'score']  # rename columns\n",
    "\n",
    "# save movies data to separate csv\n",
    "movies_df.to_csv('../../data/separated_dfs/movies.csv', index=True)\n",
    "\n",
    "# create np.array of unique movie genres\n",
    "unique_genres = data['genre'].astype(str).str.split(',\\xa0', expand=True).stack().unique()\n",
    "# remove NaN and convert to series\n",
    "unique_genres = pd.Series(unique_genres[unique_genres != 'nan'], name='genre_name')\n",
    "# save genres data to separate csv\n",
    "unique_genres.to_csv('../../data/separated_dfs/genres.csv', index=True)\n",
    "\n",
    "actors_list = []\n",
    "# remove some bad formatting and drop cells with mistakes in the data\n",
    "for element in data['crew'].astype(str):\n",
    "    text = element.replace(', Sr.', ' Sr.').replace(', Jr.', ' Jr.').replace(', ,', ', ').rstrip(', ').strip()\n",
    "    splitted_text = text.split(',')\n",
    "    if len(splitted_text) % 2 == 0:\n",
    "        actors_list.extend(splitted_text)\n",
    "# remove unnecessary spaces\n",
    "actors_list = [actor.strip() for actor in actors_list]\n",
    "# return np.array with unique values and number of occurences\n",
    "unique = np.unique(actors_list, return_counts=True)\n",
    "\n",
    "# format of the data is wrong so there is no way to infer which entity is a character from structure of data\n",
    "# that's why I needed to remove by hand most of characters I came across\n",
    "\n",
    "keywords = ['(voice)', '/', 'The ', 'Agent', 'Aunt', 'Brothel Girl', 'Adolf Hitler', 'Age 10', 'Basil Exposition',\n",
    "            'Baby Oliver', 'Casting Director', 'Big Bob', 'Bridget Jones', ' Dr. ', 'Dr. ', 'Self', 'self', 'Pilot',\n",
    "            'Johnny English', 'Man in Dance Hall', 'USA Phantom Dancer', 'Wednesday Addams', 'Skull Island',\n",
    "            'Dancer: Valinese Tari Legong Dancers', 'Él mismo', 'Minnie Driver',\n",
    "            '(', 'Albus Dumbledore', 'Skywalker', 'Bellatrix Lestrange', 'Cao Cao',\n",
    "            'Captain', 'Blind Al', 'Fairy Godmother', 'Fake Shemp', 'Fat Man', 'Harry Potter',\n",
    "            'Ron Weasley', 'Hermione Granger', 'Jesus Christ', \"Jim's\", 'Lord', 'Mad Dog', 'Mad Hatter',\n",
    "            'Meat Loaf', 'Mr.', 'Mrs', 'News', 'Newt Scamander', 'Sexy Girl', 'Sheriff', \"Ship's Cook\",\n",
    "            'Snow White', 'Tall Man', 'Tantoo Cardinal', 'Thin Man', 'Thor Odinson', 'Uncle', 'Winston Churchill',\n",
    "            'Young Frank', 'Young Joe', 'Young Man', 'Young Michael', 'Young Woman', 'Young Girl', 'Cab Driver',\n",
    "            'Cop #1', 'Commissioner James Gordon', 'Commissaire Juve', 'Cousin Eddie']\n",
    "\n",
    "### keep name if length >= 3 (as most names), consists of more than 1 word (name and surname) and is not in keywords\n",
    "name = [unique[0][i] for i in range(len(unique[0]))\n",
    "        if unique[1][i] >= 3 and len(unique[0][i].split()) > 1\n",
    "        and all(keyword not in unique[0][i] for keyword in keywords)]\n",
    "\n",
    "# save actors data to separate csv\n",
    "actors = pd.Series(name, name='actor_name')\n",
    "actors.to_csv('../../data/separated_dfs/actors.csv', index=True)\n",
    "\n",
    "genres_series = encode(data['genre'], unique_genres, 'genre_id')\n",
    "genres_series.to_csv('../../data/separated_dfs/movies_genres.csv', index=True)\n",
    "\n",
    "actors_series = encode(data['crew'], actors, 'actor_id')\n",
    "actors_series.to_csv('../../data/separated_dfs/movies_actors.csv', index=True)"
   ]
  },
  {
   "cell_type": "code",
   "execution_count": 323,
   "id": "263ae2f0-8582-4291-92ba-fd33560cd73b",
   "metadata": {},
   "outputs": [
    {
     "ename": "NameError",
     "evalue": "name 'movies_df' is not defined",
     "output_type": "error",
     "traceback": [
      "\u001b[0;31m---------------------------------------------------------------------------\u001b[0m",
      "\u001b[0;31mNameError\u001b[0m                                 Traceback (most recent call last)",
      "Cell \u001b[0;32mIn[323], line 1\u001b[0m\n\u001b[0;32m----> 1\u001b[0m \u001b[43mmovies_df\u001b[49m\n",
      "\u001b[0;31mNameError\u001b[0m: name 'movies_df' is not defined"
     ]
    }
   ],
   "source": [
    "movies_df"
   ]
  },
  {
   "cell_type": "code",
   "execution_count": 325,
   "id": "4c22109c-01ed-472b-af1a-46e5767ef21b",
   "metadata": {},
   "outputs": [
    {
     "data": {
      "text/plain": [
       "\"Michael B. Jordan, Adonis Creed, Tessa Thompson, Bianca Taylor, Jonathan Majors, Damien Anderson, Wood Harris, Tony 'Little Duke' Evers, Phylicia Rashād, Mary Anne Creed, Mila Davis-Kent, Amara Creed, Florian Munteanu, Viktor Drago, José Benavidez Jr., Felix Chavez, Selenis Leyva, Laura Chavez\""
      ]
     },
     "execution_count": 325,
     "metadata": {},
     "output_type": "execute_result"
    }
   ],
   "source": [
    "data['crew'][0]"
   ]
  }
 ],
 "metadata": {
  "kernelspec": {
   "display_name": "Python 3 (ipykernel)",
   "language": "python",
   "name": "python3"
  },
  "language_info": {
   "codemirror_mode": {
    "name": "ipython",
    "version": 3
   },
   "file_extension": ".py",
   "mimetype": "text/x-python",
   "name": "python",
   "nbconvert_exporter": "python",
   "pygments_lexer": "ipython3",
   "version": "3.11.6"
  }
 },
 "nbformat": 4,
 "nbformat_minor": 5
}
